{
 "cells": [
  {
   "cell_type": "markdown",
   "metadata": {},
   "source": [
    "# ENVIRONMENT VARIABLES"
   ]
  },
  {
   "cell_type": "markdown",
   "metadata": {},
   "source": [
    "## 1. Коммандууд"
   ]
  },
  {
   "cell_type": "markdown",
   "metadata": {},
   "source": [
    "Санг дуудах"
   ]
  },
  {
   "cell_type": "code",
   "execution_count": 1,
   "metadata": {},
   "outputs": [],
   "source": [
    "import os"
   ]
  },
  {
   "cell_type": "markdown",
   "metadata": {},
   "source": [
    "Environment variable-уудын жагсаалтыг харах"
   ]
  },
  {
   "cell_type": "code",
   "execution_count": 16,
   "metadata": {},
   "outputs": [],
   "source": [
    "# os.environ"
   ]
  },
  {
   "cell_type": "markdown",
   "metadata": {},
   "source": [
    "Нэг variable-н утгыг харах"
   ]
  },
  {
   "cell_type": "code",
   "execution_count": 5,
   "metadata": {},
   "outputs": [],
   "source": [
    "# print(os.environ.get('DATA_DIR'))\n",
    "# print(os.environ.get('KAGGLE_CONFIG_DIR'))"
   ]
  },
  {
   "cell_type": "markdown",
   "metadata": {},
   "source": [
    "## 2. Машин сургалтын төсөл-д ашиглах нь"
   ]
  },
  {
   "cell_type": "code",
   "execution_count": 2,
   "metadata": {},
   "outputs": [],
   "source": [
    "import json\n",
    "import pandas as pd\n",
    "import argparse\n",
    "import pickle"
   ]
  },
  {
   "cell_type": "markdown",
   "metadata": {},
   "source": [
    "`spotify_songs.csv` file\n",
    "\n",
    "|variable                 |class     |description |\n",
    "|:---|:---|:-----------|\n",
    "|track_id                 |character | Song unique ID|\n",
    "|track_name               |character | Song Name|\n",
    "|track_artist             |character | Song Artist|\n",
    "|track_popularity         |double    | Song Popularity (0-100) where higher is better |\n",
    "|track_album_id           |character | Album unique ID|\n",
    "|track_album_name         |character | Song album name |\n",
    "|track_album_release_date |character | Date when album released |\n",
    "|playlist_name            |character | Name of playlist |\n",
    "|playlist_id              |character | Playlist ID|\n",
    "|playlist_genre           |character | Playlist genre |\n",
    "|playlist_subgenre        |character | Playlist subgenre|\n",
    "|danceability             |double    | Danceability describes how suitable a track is for dancing based on a combination of musical elements including tempo, rhythm stability, beat strength, and overall regularity. A value of 0.0 is least danceable and 1.0 is most danceable. |\n",
    "|energy                   |double    | Energy is a measure from 0.0 to 1.0 and represents a perceptual measure of intensity and activity. Typically, energetic tracks feel fast, loud, and noisy. For example, death metal has high energy, while a Bach prelude scores low on the scale. Perceptual features contributing to this attribute include dynamic range, perceived loudness, timbre, onset rate, and general entropy. |\n",
    "|key                      |double    | The estimated overall key of the track. Integers map to pitches using standard Pitch Class notation . E.g. 0 = C, 1 = C♯/D♭, 2 = D, and so on. If no key was detected, the value is -1. |\n",
    "|loudness                 |double    | The overall loudness of a track in decibels (dB). Loudness values are averaged across the entire track and are useful for comparing relative loudness of tracks. Loudness is the quality of a sound that is the primary psychological correlate of physical strength (amplitude). Values typical range between -60 and 0 db.|\n",
    "|mode                     |double    | Mode indicates the modality (major or minor) of a track, the type of scale from which its melodic content is derived. Major is represented by 1 and minor is 0.|\n",
    "|speechiness              |double    | Speechiness detects the presence of spoken words in a track. The more exclusively speech-like the recording (e.g. talk show, audio book, poetry), the closer to 1.0 the attribute value. Values above 0.66 describe tracks that are probably made entirely of spoken words. Values between 0.33 and 0.66 describe tracks that may contain both music and speech, either in sections or layered, including such cases as rap music. Values below 0.33 most likely represent music and other non-speech-like tracks. |\n",
    "|acousticness             |double    | A confidence measure from 0.0 to 1.0 of whether the track is acoustic. 1.0 represents high confidence the track is acoustic.|\n",
    "|instrumentalness         |double    | Predicts whether a track contains no vocals. \"Ooh\" and \"aah\" sounds are treated as instrumental in this context. Rap or spoken word tracks are clearly \"vocal\". The closer the instrumentalness value is to 1.0, the greater likelihood the track contains no vocal content. Values above 0.5 are intended to represent instrumental tracks, but confidence is higher as the value approaches 1.0. |\n",
    "|liveness                 |double    | Detects the presence of an audience in the recording. Higher liveness values represent an increased probability that the track was performed live. A value above 0.8 provides strong likelihood that the track is live. |\n",
    "|valence                  |double    | A measure from 0.0 to 1.0 describing the musical positiveness conveyed by a track. Tracks with high valence sound more positive (e.g. happy, cheerful, euphoric), while tracks with low valence sound more negative (e.g. sad, depressed, angry). |\n",
    "|tempo                    |double    | The overall estimated tempo of a track in beats per minute (BPM). In musical terminology, tempo is the speed or pace of a given piece and derives directly from the average beat duration. |\n",
    "|duration_ms              |double    | Duration of song in milliseconds |"
   ]
  },
  {
   "cell_type": "code",
   "execution_count": 7,
   "metadata": {},
   "outputs": [
    {
     "name": "stdout",
     "output_type": "stream",
     "text": [
      "['.DS_Store', 'Spotify']\n",
      "['readme.md', 'spotify_songs.csv']\n"
     ]
    }
   ],
   "source": [
    "# өгөгдлийг харах\n",
    "DATA_PATH = os.getenv('DATA_DIR')\n",
    "print(os.listdir(DATA_PATH))\n",
    "print(os.listdir(os.path.join(DATA_PATH,'Spotify')))"
   ]
  },
  {
   "cell_type": "code",
   "execution_count": 8,
   "metadata": {},
   "outputs": [],
   "source": [
    "# өгөгдлийн оруулж ирэх\n",
    "spotify_df = pd.read_csv(os.path.join(DATA_PATH, 'Spotify/spotify_songs.csv'))"
   ]
  },
  {
   "cell_type": "code",
   "execution_count": 9,
   "metadata": {},
   "outputs": [
    {
     "data": {
      "text/html": [
       "<div>\n",
       "<style scoped>\n",
       "    .dataframe tbody tr th:only-of-type {\n",
       "        vertical-align: middle;\n",
       "    }\n",
       "\n",
       "    .dataframe tbody tr th {\n",
       "        vertical-align: top;\n",
       "    }\n",
       "\n",
       "    .dataframe thead th {\n",
       "        text-align: right;\n",
       "    }\n",
       "</style>\n",
       "<table border=\"1\" class=\"dataframe\">\n",
       "  <thead>\n",
       "    <tr style=\"text-align: right;\">\n",
       "      <th></th>\n",
       "      <th>0</th>\n",
       "      <th>1</th>\n",
       "      <th>2</th>\n",
       "      <th>3</th>\n",
       "      <th>4</th>\n",
       "    </tr>\n",
       "  </thead>\n",
       "  <tbody>\n",
       "    <tr>\n",
       "      <th>track_id</th>\n",
       "      <td>6f807x0ima9a1j3VPbc7VN</td>\n",
       "      <td>0r7CVbZTWZgbTCYdfa2P31</td>\n",
       "      <td>1z1Hg7Vb0AhHDiEmnDE79l</td>\n",
       "      <td>75FpbthrwQmzHlBJLuGdC7</td>\n",
       "      <td>1e8PAfcKUYoKkxPhrHqw4x</td>\n",
       "    </tr>\n",
       "    <tr>\n",
       "      <th>track_name</th>\n",
       "      <td>I Don't Care (with Justin Bieber) - Loud Luxur...</td>\n",
       "      <td>Memories - Dillon Francis Remix</td>\n",
       "      <td>All the Time - Don Diablo Remix</td>\n",
       "      <td>Call You Mine - Keanu Silva Remix</td>\n",
       "      <td>Someone You Loved - Future Humans Remix</td>\n",
       "    </tr>\n",
       "    <tr>\n",
       "      <th>track_artist</th>\n",
       "      <td>Ed Sheeran</td>\n",
       "      <td>Maroon 5</td>\n",
       "      <td>Zara Larsson</td>\n",
       "      <td>The Chainsmokers</td>\n",
       "      <td>Lewis Capaldi</td>\n",
       "    </tr>\n",
       "    <tr>\n",
       "      <th>track_popularity</th>\n",
       "      <td>66</td>\n",
       "      <td>67</td>\n",
       "      <td>70</td>\n",
       "      <td>60</td>\n",
       "      <td>69</td>\n",
       "    </tr>\n",
       "    <tr>\n",
       "      <th>track_album_id</th>\n",
       "      <td>2oCs0DGTsRO98Gh5ZSl2Cx</td>\n",
       "      <td>63rPSO264uRjW1X5E6cWv6</td>\n",
       "      <td>1HoSmj2eLcsrR0vE9gThr4</td>\n",
       "      <td>1nqYsOef1yKKuGOVchbsk6</td>\n",
       "      <td>7m7vv9wlQ4i0LFuJiE2zsQ</td>\n",
       "    </tr>\n",
       "    <tr>\n",
       "      <th>track_album_name</th>\n",
       "      <td>I Don't Care (with Justin Bieber) [Loud Luxury...</td>\n",
       "      <td>Memories (Dillon Francis Remix)</td>\n",
       "      <td>All the Time (Don Diablo Remix)</td>\n",
       "      <td>Call You Mine - The Remixes</td>\n",
       "      <td>Someone You Loved (Future Humans Remix)</td>\n",
       "    </tr>\n",
       "    <tr>\n",
       "      <th>track_album_release_date</th>\n",
       "      <td>2019-06-14</td>\n",
       "      <td>2019-12-13</td>\n",
       "      <td>2019-07-05</td>\n",
       "      <td>2019-07-19</td>\n",
       "      <td>2019-03-05</td>\n",
       "    </tr>\n",
       "    <tr>\n",
       "      <th>playlist_name</th>\n",
       "      <td>Pop Remix</td>\n",
       "      <td>Pop Remix</td>\n",
       "      <td>Pop Remix</td>\n",
       "      <td>Pop Remix</td>\n",
       "      <td>Pop Remix</td>\n",
       "    </tr>\n",
       "    <tr>\n",
       "      <th>playlist_id</th>\n",
       "      <td>37i9dQZF1DXcZDD7cfEKhW</td>\n",
       "      <td>37i9dQZF1DXcZDD7cfEKhW</td>\n",
       "      <td>37i9dQZF1DXcZDD7cfEKhW</td>\n",
       "      <td>37i9dQZF1DXcZDD7cfEKhW</td>\n",
       "      <td>37i9dQZF1DXcZDD7cfEKhW</td>\n",
       "    </tr>\n",
       "    <tr>\n",
       "      <th>playlist_genre</th>\n",
       "      <td>pop</td>\n",
       "      <td>pop</td>\n",
       "      <td>pop</td>\n",
       "      <td>pop</td>\n",
       "      <td>pop</td>\n",
       "    </tr>\n",
       "    <tr>\n",
       "      <th>playlist_subgenre</th>\n",
       "      <td>dance pop</td>\n",
       "      <td>dance pop</td>\n",
       "      <td>dance pop</td>\n",
       "      <td>dance pop</td>\n",
       "      <td>dance pop</td>\n",
       "    </tr>\n",
       "    <tr>\n",
       "      <th>danceability</th>\n",
       "      <td>0.748</td>\n",
       "      <td>0.726</td>\n",
       "      <td>0.675</td>\n",
       "      <td>0.718</td>\n",
       "      <td>0.65</td>\n",
       "    </tr>\n",
       "    <tr>\n",
       "      <th>energy</th>\n",
       "      <td>0.916</td>\n",
       "      <td>0.815</td>\n",
       "      <td>0.931</td>\n",
       "      <td>0.93</td>\n",
       "      <td>0.833</td>\n",
       "    </tr>\n",
       "    <tr>\n",
       "      <th>key</th>\n",
       "      <td>6</td>\n",
       "      <td>11</td>\n",
       "      <td>1</td>\n",
       "      <td>7</td>\n",
       "      <td>1</td>\n",
       "    </tr>\n",
       "    <tr>\n",
       "      <th>loudness</th>\n",
       "      <td>-2.634</td>\n",
       "      <td>-4.969</td>\n",
       "      <td>-3.432</td>\n",
       "      <td>-3.778</td>\n",
       "      <td>-4.672</td>\n",
       "    </tr>\n",
       "    <tr>\n",
       "      <th>mode</th>\n",
       "      <td>1</td>\n",
       "      <td>1</td>\n",
       "      <td>0</td>\n",
       "      <td>1</td>\n",
       "      <td>1</td>\n",
       "    </tr>\n",
       "    <tr>\n",
       "      <th>speechiness</th>\n",
       "      <td>0.0583</td>\n",
       "      <td>0.0373</td>\n",
       "      <td>0.0742</td>\n",
       "      <td>0.102</td>\n",
       "      <td>0.0359</td>\n",
       "    </tr>\n",
       "    <tr>\n",
       "      <th>acousticness</th>\n",
       "      <td>0.102</td>\n",
       "      <td>0.0724</td>\n",
       "      <td>0.0794</td>\n",
       "      <td>0.0287</td>\n",
       "      <td>0.0803</td>\n",
       "    </tr>\n",
       "    <tr>\n",
       "      <th>instrumentalness</th>\n",
       "      <td>0.0</td>\n",
       "      <td>0.00421</td>\n",
       "      <td>0.000023</td>\n",
       "      <td>0.000009</td>\n",
       "      <td>0.0</td>\n",
       "    </tr>\n",
       "    <tr>\n",
       "      <th>liveness</th>\n",
       "      <td>0.0653</td>\n",
       "      <td>0.357</td>\n",
       "      <td>0.11</td>\n",
       "      <td>0.204</td>\n",
       "      <td>0.0833</td>\n",
       "    </tr>\n",
       "    <tr>\n",
       "      <th>valence</th>\n",
       "      <td>0.518</td>\n",
       "      <td>0.693</td>\n",
       "      <td>0.613</td>\n",
       "      <td>0.277</td>\n",
       "      <td>0.725</td>\n",
       "    </tr>\n",
       "    <tr>\n",
       "      <th>tempo</th>\n",
       "      <td>122.036</td>\n",
       "      <td>99.972</td>\n",
       "      <td>124.008</td>\n",
       "      <td>121.956</td>\n",
       "      <td>123.976</td>\n",
       "    </tr>\n",
       "    <tr>\n",
       "      <th>duration_ms</th>\n",
       "      <td>194754</td>\n",
       "      <td>162600</td>\n",
       "      <td>176616</td>\n",
       "      <td>169093</td>\n",
       "      <td>189052</td>\n",
       "    </tr>\n",
       "  </tbody>\n",
       "</table>\n",
       "</div>"
      ],
      "text/plain": [
       "                                                                          0  \\\n",
       "track_id                                             6f807x0ima9a1j3VPbc7VN   \n",
       "track_name                I Don't Care (with Justin Bieber) - Loud Luxur...   \n",
       "track_artist                                                     Ed Sheeran   \n",
       "track_popularity                                                         66   \n",
       "track_album_id                                       2oCs0DGTsRO98Gh5ZSl2Cx   \n",
       "track_album_name          I Don't Care (with Justin Bieber) [Loud Luxury...   \n",
       "track_album_release_date                                         2019-06-14   \n",
       "playlist_name                                                     Pop Remix   \n",
       "playlist_id                                          37i9dQZF1DXcZDD7cfEKhW   \n",
       "playlist_genre                                                          pop   \n",
       "playlist_subgenre                                                 dance pop   \n",
       "danceability                                                          0.748   \n",
       "energy                                                                0.916   \n",
       "key                                                                       6   \n",
       "loudness                                                             -2.634   \n",
       "mode                                                                      1   \n",
       "speechiness                                                          0.0583   \n",
       "acousticness                                                          0.102   \n",
       "instrumentalness                                                        0.0   \n",
       "liveness                                                             0.0653   \n",
       "valence                                                               0.518   \n",
       "tempo                                                               122.036   \n",
       "duration_ms                                                          194754   \n",
       "\n",
       "                                                        1  \\\n",
       "track_id                           0r7CVbZTWZgbTCYdfa2P31   \n",
       "track_name                Memories - Dillon Francis Remix   \n",
       "track_artist                                     Maroon 5   \n",
       "track_popularity                                       67   \n",
       "track_album_id                     63rPSO264uRjW1X5E6cWv6   \n",
       "track_album_name          Memories (Dillon Francis Remix)   \n",
       "track_album_release_date                       2019-12-13   \n",
       "playlist_name                                   Pop Remix   \n",
       "playlist_id                        37i9dQZF1DXcZDD7cfEKhW   \n",
       "playlist_genre                                        pop   \n",
       "playlist_subgenre                               dance pop   \n",
       "danceability                                        0.726   \n",
       "energy                                              0.815   \n",
       "key                                                    11   \n",
       "loudness                                           -4.969   \n",
       "mode                                                    1   \n",
       "speechiness                                        0.0373   \n",
       "acousticness                                       0.0724   \n",
       "instrumentalness                                  0.00421   \n",
       "liveness                                            0.357   \n",
       "valence                                             0.693   \n",
       "tempo                                              99.972   \n",
       "duration_ms                                        162600   \n",
       "\n",
       "                                                        2  \\\n",
       "track_id                           1z1Hg7Vb0AhHDiEmnDE79l   \n",
       "track_name                All the Time - Don Diablo Remix   \n",
       "track_artist                                 Zara Larsson   \n",
       "track_popularity                                       70   \n",
       "track_album_id                     1HoSmj2eLcsrR0vE9gThr4   \n",
       "track_album_name          All the Time (Don Diablo Remix)   \n",
       "track_album_release_date                       2019-07-05   \n",
       "playlist_name                                   Pop Remix   \n",
       "playlist_id                        37i9dQZF1DXcZDD7cfEKhW   \n",
       "playlist_genre                                        pop   \n",
       "playlist_subgenre                               dance pop   \n",
       "danceability                                        0.675   \n",
       "energy                                              0.931   \n",
       "key                                                     1   \n",
       "loudness                                           -3.432   \n",
       "mode                                                    0   \n",
       "speechiness                                        0.0742   \n",
       "acousticness                                       0.0794   \n",
       "instrumentalness                                 0.000023   \n",
       "liveness                                             0.11   \n",
       "valence                                             0.613   \n",
       "tempo                                             124.008   \n",
       "duration_ms                                        176616   \n",
       "\n",
       "                                                          3  \\\n",
       "track_id                             75FpbthrwQmzHlBJLuGdC7   \n",
       "track_name                Call You Mine - Keanu Silva Remix   \n",
       "track_artist                               The Chainsmokers   \n",
       "track_popularity                                         60   \n",
       "track_album_id                       1nqYsOef1yKKuGOVchbsk6   \n",
       "track_album_name                Call You Mine - The Remixes   \n",
       "track_album_release_date                         2019-07-19   \n",
       "playlist_name                                     Pop Remix   \n",
       "playlist_id                          37i9dQZF1DXcZDD7cfEKhW   \n",
       "playlist_genre                                          pop   \n",
       "playlist_subgenre                                 dance pop   \n",
       "danceability                                          0.718   \n",
       "energy                                                 0.93   \n",
       "key                                                       7   \n",
       "loudness                                             -3.778   \n",
       "mode                                                      1   \n",
       "speechiness                                           0.102   \n",
       "acousticness                                         0.0287   \n",
       "instrumentalness                                   0.000009   \n",
       "liveness                                              0.204   \n",
       "valence                                               0.277   \n",
       "tempo                                               121.956   \n",
       "duration_ms                                          169093   \n",
       "\n",
       "                                                                4  \n",
       "track_id                                   1e8PAfcKUYoKkxPhrHqw4x  \n",
       "track_name                Someone You Loved - Future Humans Remix  \n",
       "track_artist                                        Lewis Capaldi  \n",
       "track_popularity                                               69  \n",
       "track_album_id                             7m7vv9wlQ4i0LFuJiE2zsQ  \n",
       "track_album_name          Someone You Loved (Future Humans Remix)  \n",
       "track_album_release_date                               2019-03-05  \n",
       "playlist_name                                           Pop Remix  \n",
       "playlist_id                                37i9dQZF1DXcZDD7cfEKhW  \n",
       "playlist_genre                                                pop  \n",
       "playlist_subgenre                                       dance pop  \n",
       "danceability                                                 0.65  \n",
       "energy                                                      0.833  \n",
       "key                                                             1  \n",
       "loudness                                                   -4.672  \n",
       "mode                                                            1  \n",
       "speechiness                                                0.0359  \n",
       "acousticness                                               0.0803  \n",
       "instrumentalness                                              0.0  \n",
       "liveness                                                   0.0833  \n",
       "valence                                                     0.725  \n",
       "tempo                                                     123.976  \n",
       "duration_ms                                                189052  "
      ]
     },
     "execution_count": 9,
     "metadata": {},
     "output_type": "execute_result"
    }
   ],
   "source": [
    "# өгөгдлийн эхний мөрүүдийг харах\n",
    "spotify_df.head().T"
   ]
  },
  {
   "cell_type": "code",
   "execution_count": 24,
   "metadata": {},
   "outputs": [],
   "source": [
    "# X, y-д ашиглах баганын нэрүүдийг авах\n",
    "X_columns = ['playlist_genre', 'playlist_subgenre','danceability', 'energy', \n",
    "                  'key', 'loudness', 'mode', 'speechiness','acousticness', \n",
    "                  'instrumentalness', 'liveness', 'valence', 'tempo', 'duration_ms']\n",
    "y_column = 'track_popularity'"
   ]
  },
  {
   "cell_type": "code",
   "execution_count": 25,
   "metadata": {},
   "outputs": [],
   "source": [
    "# spotify өгөгдлийг оруулж ирэх\n",
    "def load_spotify_data():\n",
    "    import pandas as pd\n",
    "\n",
    "    DATA_PATH = os.getenv('DATA_DIR')\n",
    "    df = pd.read_csv(os.path.join(DATA_PATH, 'Spotify/spotify_songs.csv'))\n",
    "    \n",
    "    return df"
   ]
  },
  {
   "cell_type": "code",
   "execution_count": 26,
   "metadata": {},
   "outputs": [],
   "source": [
    "# өгөгдлийг сургалтын, тестийн гэж хуваах\n",
    "def split_data(X, y, test_size=0.3):\n",
    "    from sklearn.model_selection import train_test_split\n",
    "    X_train, X_test, y_train, y_test = train_test_split(X, y, test_size=test_size, random_state=12)\n",
    "\n",
    "    return X_train, X_test, y_train, y_test"
   ]
  },
  {
   "cell_type": "code",
   "execution_count": 27,
   "metadata": {},
   "outputs": [
    {
     "name": "stdout",
     "output_type": "stream",
     "text": [
      "Сургалтын Х-н хэмжээ:  (22983, 14) ; y-н хэмжээ:  (22983,)\n",
      "Сургалтын Х-н хэмжээ:  (9850, 14) ; y-н хэмжээ:  (9850,)\n"
     ]
    }
   ],
   "source": [
    "X_train, X_test, y_train, y_test = split_data(spotify_df[X_columns], spotify_df[y_column])\n",
    "print(\"Сургалтын Х-н хэмжээ: \", X_train.shape, \"; y-н хэмжээ: \", y_train.shape)\n",
    "print(\"Сургалтын Х-н хэмжээ: \", X_test.shape, \"; y-н хэмжээ: \", y_test.shape)"
   ]
  },
  {
   "cell_type": "code",
   "execution_count": 28,
   "metadata": {},
   "outputs": [],
   "source": [
    "# y хувьсагчийг категори болгох\n",
    "def y_to_cat(y):\n",
    "    y = y.map(lambda x: 1 if x>=70 else 0)\n",
    "\n",
    "    return y"
   ]
  },
  {
   "cell_type": "code",
   "execution_count": 29,
   "metadata": {},
   "outputs": [],
   "source": [
    "# өгөгдлийг стандартжуулах\n",
    "def scale_process_data(df, scale='MinMax'):\n",
    "    from sklearn.preprocessing import MinMaxScaler, StandardScaler, LabelEncoder\n",
    "\n",
    "    df = load_spotify_data()\n",
    "\n",
    "    if scale == 'MinMax':\n",
    "        scaler = MinMaxScaler()\n",
    "    \n",
    "    elif scale == 'Standard':\n",
    "        scaler = StandardScaler()\n",
    "\n",
    "    X_train, X_test, y_train, y_test = split_data(df[X_columns], df[y_column])\n",
    "\n",
    "    num_columns = [col for col in X_train.columns if X_train[col].dtype in ['float','int']]\n",
    "    cat_columns = [col for col in X_train.columns if X_train[col].dtype not in ['float','int']]\n",
    "\n",
    "    # тоон өгөгдлийг scale хийх\n",
    "    scaler.fit(X_train[num_columns])\n",
    "    X_train[num_columns] = scaler.transform(X_train[num_columns])\n",
    "    X_test[num_columns] = scaler.transform(X_test[num_columns])\n",
    "\n",
    "    with open(os.path.join(os.getenv('MODEL_DIR'), 'scaler.pickle'),'wb') as f:\n",
    "            pickle.dump(scaler, f)\n",
    "\n",
    "    # категори өгөгдлийг encode хийх\n",
    "    labelencoder = LabelEncoder()\n",
    "    for col in cat_columns:\n",
    "        labelencoder.fit(X_train[col])\n",
    "        X_train[col] = labelencoder.transform(X_train[col])\n",
    "        X_test[col] = labelencoder.transform(X_test[col])\n",
    "        encoder_name = 'labelencoder_'+col+'.pickle'\n",
    "\n",
    "        with open(os.path.join(os.getenv('MODEL_DIR'), encoder_name),'wb') as f:\n",
    "            pickle.dump(labelencoder, f)\n",
    "\n",
    "    # таргет хувьсагчийг категори хувьсагч болгох\n",
    "    y_train = y_to_cat(y_train)\n",
    "    y_test = y_to_cat(y_test)\n",
    "\n",
    "    return X_train, X_test, y_train, y_test"
   ]
  },
  {
   "cell_type": "code",
   "execution_count": 30,
   "metadata": {},
   "outputs": [
    {
     "name": "stdout",
     "output_type": "stream",
     "text": [
      "Сургалтын Х-н хэмжээ:  (22983, 14) ; y-н хэмжээ:  (22983,)\n",
      "Сургалтын Х-н хэмжээ:  (9850, 14) ; y-н хэмжээ:  (9850,)\n"
     ]
    }
   ],
   "source": [
    "X_train, X_test, y_train, y_test = scale_process_data(spotify_df)\n",
    "print(\"Сургалтын Х-н хэмжээ: \", X_train.shape, \"; y-н хэмжээ: \", y_train.shape)\n",
    "print(\"Сургалтын Х-н хэмжээ: \", X_test.shape, \"; y-н хэмжээ: \", y_test.shape)"
   ]
  },
  {
   "cell_type": "code",
   "execution_count": 31,
   "metadata": {},
   "outputs": [],
   "source": [
    "# загварыг авах\n",
    "def build_model(max_depth, min_samples_leaf, min_samples_split):\n",
    "    from sklearn.ensemble import RandomForestClassifier\n",
    "    \n",
    "    classifier = RandomForestClassifier(random_state=123, \n",
    "                                        max_depth=max_depth,\n",
    "                                        min_samples_leaf=min_samples_leaf,\n",
    "                                        min_samples_split=min_samples_split)\n",
    "    \n",
    "    return classifier"
   ]
  },
  {
   "cell_type": "code",
   "execution_count": 32,
   "metadata": {},
   "outputs": [
    {
     "data": {
      "text/html": [
       "<style>#sk-container-id-2 {color: black;}#sk-container-id-2 pre{padding: 0;}#sk-container-id-2 div.sk-toggleable {background-color: white;}#sk-container-id-2 label.sk-toggleable__label {cursor: pointer;display: block;width: 100%;margin-bottom: 0;padding: 0.3em;box-sizing: border-box;text-align: center;}#sk-container-id-2 label.sk-toggleable__label-arrow:before {content: \"▸\";float: left;margin-right: 0.25em;color: #696969;}#sk-container-id-2 label.sk-toggleable__label-arrow:hover:before {color: black;}#sk-container-id-2 div.sk-estimator:hover label.sk-toggleable__label-arrow:before {color: black;}#sk-container-id-2 div.sk-toggleable__content {max-height: 0;max-width: 0;overflow: hidden;text-align: left;background-color: #f0f8ff;}#sk-container-id-2 div.sk-toggleable__content pre {margin: 0.2em;color: black;border-radius: 0.25em;background-color: #f0f8ff;}#sk-container-id-2 input.sk-toggleable__control:checked~div.sk-toggleable__content {max-height: 200px;max-width: 100%;overflow: auto;}#sk-container-id-2 input.sk-toggleable__control:checked~label.sk-toggleable__label-arrow:before {content: \"▾\";}#sk-container-id-2 div.sk-estimator input.sk-toggleable__control:checked~label.sk-toggleable__label {background-color: #d4ebff;}#sk-container-id-2 div.sk-label input.sk-toggleable__control:checked~label.sk-toggleable__label {background-color: #d4ebff;}#sk-container-id-2 input.sk-hidden--visually {border: 0;clip: rect(1px 1px 1px 1px);clip: rect(1px, 1px, 1px, 1px);height: 1px;margin: -1px;overflow: hidden;padding: 0;position: absolute;width: 1px;}#sk-container-id-2 div.sk-estimator {font-family: monospace;background-color: #f0f8ff;border: 1px dotted black;border-radius: 0.25em;box-sizing: border-box;margin-bottom: 0.5em;}#sk-container-id-2 div.sk-estimator:hover {background-color: #d4ebff;}#sk-container-id-2 div.sk-parallel-item::after {content: \"\";width: 100%;border-bottom: 1px solid gray;flex-grow: 1;}#sk-container-id-2 div.sk-label:hover label.sk-toggleable__label {background-color: #d4ebff;}#sk-container-id-2 div.sk-serial::before {content: \"\";position: absolute;border-left: 1px solid gray;box-sizing: border-box;top: 0;bottom: 0;left: 50%;z-index: 0;}#sk-container-id-2 div.sk-serial {display: flex;flex-direction: column;align-items: center;background-color: white;padding-right: 0.2em;padding-left: 0.2em;position: relative;}#sk-container-id-2 div.sk-item {position: relative;z-index: 1;}#sk-container-id-2 div.sk-parallel {display: flex;align-items: stretch;justify-content: center;background-color: white;position: relative;}#sk-container-id-2 div.sk-item::before, #sk-container-id-2 div.sk-parallel-item::before {content: \"\";position: absolute;border-left: 1px solid gray;box-sizing: border-box;top: 0;bottom: 0;left: 50%;z-index: -1;}#sk-container-id-2 div.sk-parallel-item {display: flex;flex-direction: column;z-index: 1;position: relative;background-color: white;}#sk-container-id-2 div.sk-parallel-item:first-child::after {align-self: flex-end;width: 50%;}#sk-container-id-2 div.sk-parallel-item:last-child::after {align-self: flex-start;width: 50%;}#sk-container-id-2 div.sk-parallel-item:only-child::after {width: 0;}#sk-container-id-2 div.sk-dashed-wrapped {border: 1px dashed gray;margin: 0 0.4em 0.5em 0.4em;box-sizing: border-box;padding-bottom: 0.4em;background-color: white;}#sk-container-id-2 div.sk-label label {font-family: monospace;font-weight: bold;display: inline-block;line-height: 1.2em;}#sk-container-id-2 div.sk-label-container {text-align: center;}#sk-container-id-2 div.sk-container {/* jupyter's `normalize.less` sets `[hidden] { display: none; }` but bootstrap.min.css set `[hidden] { display: none !important; }` so we also need the `!important` here to be able to override the default hidden behavior on the sphinx rendered scikit-learn.org. See: https://github.com/scikit-learn/scikit-learn/issues/21755 */display: inline-block !important;position: relative;}#sk-container-id-2 div.sk-text-repr-fallback {display: none;}</style><div id=\"sk-container-id-2\" class=\"sk-top-container\"><div class=\"sk-text-repr-fallback\"><pre>RandomForestClassifier(max_depth=30, min_samples_leaf=2, min_samples_split=3,\n",
       "                       random_state=123)</pre><b>In a Jupyter environment, please rerun this cell to show the HTML representation or trust the notebook. <br />On GitHub, the HTML representation is unable to render, please try loading this page with nbviewer.org.</b></div><div class=\"sk-container\" hidden><div class=\"sk-item\"><div class=\"sk-estimator sk-toggleable\"><input class=\"sk-toggleable__control sk-hidden--visually\" id=\"sk-estimator-id-2\" type=\"checkbox\" checked><label for=\"sk-estimator-id-2\" class=\"sk-toggleable__label sk-toggleable__label-arrow\">RandomForestClassifier</label><div class=\"sk-toggleable__content\"><pre>RandomForestClassifier(max_depth=30, min_samples_leaf=2, min_samples_split=3,\n",
       "                       random_state=123)</pre></div></div></div></div></div>"
      ],
      "text/plain": [
       "RandomForestClassifier(max_depth=30, min_samples_leaf=2, min_samples_split=3,\n",
       "                       random_state=123)"
      ]
     },
     "execution_count": 32,
     "metadata": {},
     "output_type": "execute_result"
    }
   ],
   "source": [
    "clr = build_model(30, 2, 3)\n",
    "clr"
   ]
  },
  {
   "cell_type": "code",
   "execution_count": 33,
   "metadata": {},
   "outputs": [],
   "source": [
    "# загварыг сургах\n",
    "def train_evaluate_model(model, data):\n",
    "    from sklearn.metrics import recall_score, accuracy_score, precision_score\n",
    "\n",
    "    model.fit(data[0], data[2])\n",
    "    y_pred = model.predict(data[1])\n",
    "    print('Recall score: ', recall_score(data[3], y_pred))\n",
    "    print('Accuracy score: ', accuracy_score(data[3], y_pred))\n",
    "    print('Precision score: ', precision_score(data[3], y_pred))\n",
    "\n",
    "    return model"
   ]
  },
  {
   "cell_type": "code",
   "execution_count": 20,
   "metadata": {},
   "outputs": [],
   "source": [
    "# загварыг хадгалах\n",
    "def save_model(model):\n",
    "    with open(os.path.join(os.getenv('MODEL_DIR'), 'model.pickle'), 'wb') as f:\n",
    "        pickle.dump(model, f)"
   ]
  },
  {
   "cell_type": "markdown",
   "metadata": {},
   "source": [
    "Дараах variable-уудыг environment руу нэмэх\n",
    "- `MAX_DEPTH=30`\n",
    "- `MIN_SAMPLES_LEAF=2`\n",
    "- `MIN_SAMPLES_SPLIT=3`"
   ]
  },
  {
   "cell_type": "code",
   "execution_count": 23,
   "metadata": {},
   "outputs": [
    {
     "name": "stderr",
     "output_type": "stream",
     "text": [
      "/Users/uyangajung/miniconda3/envs/mlp/lib/python3.8/site-packages/sklearn/base.py:1152: DataConversionWarning: A column-vector y was passed when a 1d array was expected. Please change the shape of y to (n_samples,), for example using ravel().\n",
      "  return fit_method(estimator, *args, **kwargs)\n"
     ]
    },
    {
     "name": "stdout",
     "output_type": "stream",
     "text": [
      "Recall score:  0.27348643006263046\n",
      "Accuracy score:  0.8896446700507614\n",
      "Precision score:  0.9013761467889908\n"
     ]
    }
   ],
   "source": [
    "# Hyperparameter-уудыг environment-с авах\n",
    "max_depth = int(os.environ.get(\"MAX_DEPTH\"))\n",
    "min_samples_leaf = int(os.environ.get(\"MIN_SAMPLES_LEAF\"))\n",
    "min_samples_split = int(os.environ.get(\"MIN_SAMPLES_SPLIT\"))\n",
    "\n",
    "df = load_spotify_data()\n",
    "data = scale_process_data(df)\n",
    "model = build_model(max_depth, min_samples_leaf, min_samples_split)\n",
    "model_trained = train_evaluate_model(model, data)\n",
    "save_model(model_trained)   \n"
   ]
  },
  {
   "cell_type": "markdown",
   "metadata": {},
   "source": [
    "The end of the notebook"
   ]
  }
 ],
 "metadata": {
  "kernelspec": {
   "display_name": "tf310",
   "language": "python",
   "name": "python3"
  },
  "language_info": {
   "codemirror_mode": {
    "name": "ipython",
    "version": 3
   },
   "file_extension": ".py",
   "mimetype": "text/x-python",
   "name": "python",
   "nbconvert_exporter": "python",
   "pygments_lexer": "ipython3",
   "version": "3.8.18"
  }
 },
 "nbformat": 4,
 "nbformat_minor": 2
}
