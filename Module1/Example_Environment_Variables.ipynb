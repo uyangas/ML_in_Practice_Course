{
 "cells": [
  {
   "cell_type": "markdown",
   "metadata": {},
   "source": [
    "# Exploring environment variables"
   ]
  },
  {
   "cell_type": "markdown",
   "metadata": {},
   "source": [
    "Санг дуудах"
   ]
  },
  {
   "cell_type": "code",
   "execution_count": 2,
   "metadata": {},
   "outputs": [],
   "source": [
    "import os"
   ]
  },
  {
   "cell_type": "markdown",
   "metadata": {},
   "source": [
    "Environment variable-уудын жагсаалтыг харах"
   ]
  },
  {
   "cell_type": "code",
   "execution_count": 6,
   "metadata": {},
   "outputs": [],
   "source": [
    "# os.environ"
   ]
  },
  {
   "cell_type": "markdown",
   "metadata": {},
   "source": [
    "Нэг variable-н утгыг харах"
   ]
  },
  {
   "cell_type": "code",
   "execution_count": null,
   "metadata": {},
   "outputs": [],
   "source": [
    "import os\n",
    "import argparse\n",
    "\n",
    "def train_model(learning_rate, batch_size):\n",
    "    # Your machine learning training code goes here\n",
    "    print(f\"Training model with learning rate={learning_rate}, batch size={batch_size}\")\n",
    "\n",
    "def main():\n",
    "    # Parse command-line arguments\n",
    "    parser = argparse.ArgumentParser(description=\"Train a machine learning model.\")\n",
    "    parser.add_argument(\"--learning_rate\", type=float, default=0.001, help=\"Learning rate for training\")\n",
    "    parser.add_argument(\"--batch_asize\", type=int, default=32, help=\"Batch size for training\")\n",
    "    args = parser.parse_args()\n",
    "\n",
    "    # Get hyperparameters from environment variables, if available\n",
    "    learning_rate = float(os.environ.get(\"LEARNING_RATE\", args.learning_rate))\n",
    "    batch_size = int(os.environ.get(\"BATCH_SIZE\", args.batch_size))\n",
    "\n",
    "    # Train the model\n",
    "    train_model(learning_rate, batch_size)\n",
    "\n",
    "if __name__ == \"__main__\":\n",
    "    main()"
   ]
  }
 ],
 "metadata": {
  "kernelspec": {
   "display_name": "tf310",
   "language": "python",
   "name": "python3"
  },
  "language_info": {
   "codemirror_mode": {
    "name": "ipython",
    "version": 3
   },
   "file_extension": ".py",
   "mimetype": "text/x-python",
   "name": "python",
   "nbconvert_exporter": "python",
   "pygments_lexer": "ipython3",
   "version": "3.10.13"
  }
 },
 "nbformat": 4,
 "nbformat_minor": 2
}
