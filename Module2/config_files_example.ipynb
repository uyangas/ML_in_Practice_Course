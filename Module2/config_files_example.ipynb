{
 "cells": [
  {
   "cell_type": "markdown",
   "metadata": {},
   "source": [
    "# Config files examples"
   ]
  },
  {
   "cell_type": "code",
   "execution_count": 5,
   "metadata": {},
   "outputs": [],
   "source": [
    "config_dict = {\n",
    "    \"data_dir\": \"./MLData\",\n",
    "    \"model_dir\": \"./MLProjects\",\n",
    "    \"model_config\": {\n",
    "        \"max_depth\": 30,\n",
    "        \"min_samples_leaf\": 2,\n",
    "        \"min_samples_split\": 3\n",
    "        }\n",
    "    }"
   ]
  },
  {
   "cell_type": "markdown",
   "metadata": {},
   "source": [
    "## 1. `.py` and `.txt` file"
   ]
  },
  {
   "cell_type": "markdown",
   "metadata": {},
   "source": [
    "`%%writefile` magic method-г ашиглан python файл бичих"
   ]
  },
  {
   "cell_type": "code",
   "execution_count": 6,
   "metadata": {},
   "outputs": [
    {
     "name": "stdout",
     "output_type": "stream",
     "text": [
      "Overwriting ./config/config.py\n"
     ]
    }
   ],
   "source": [
    "%%writefile ./config/config.py\n",
    "\n",
    "data_dir=\"./MLData\"\n",
    "model_dir=\"./MLProjects\"\n",
    "max_depth=30\n",
    "min_samples_leaf=2\n",
    "min_samples_split=3"
   ]
  },
  {
   "cell_type": "markdown",
   "metadata": {},
   "source": [
    "`.txt` файл бичих"
   ]
  },
  {
   "cell_type": "code",
   "execution_count": 7,
   "metadata": {},
   "outputs": [
    {
     "name": "stdout",
     "output_type": "stream",
     "text": [
      "Overwriting ./config/config.txt\n"
     ]
    }
   ],
   "source": [
    "%%writefile ./config/config.txt\n",
    "\n",
    "data_dir=\"./MLData\"\n",
    "model_dir=\"./MLProjects\"\n",
    "max_depth=30\n",
    "min_samples_leaf=2\n",
    "min_samples_split=3"
   ]
  },
  {
   "cell_type": "markdown",
   "metadata": {},
   "source": [
    "Кодыг `.py` файл болгож бичих"
   ]
  },
  {
   "cell_type": "code",
   "execution_count": 8,
   "metadata": {},
   "outputs": [],
   "source": [
    "python_code = \"\"\"\n",
    "data_dir=\"./MLData\"\n",
    "model_dir=\"./MLProjects\"\n",
    "max_depth=30\n",
    "min_samples_leaf=2\n",
    "min_samples_split=3\n",
    "\n",
    "\"\"\"\n",
    "\n",
    "file_name = './config/config1.py'\n",
    "\n",
    "# Open the file in write mode ('w')\n",
    "with open(file_name, 'w') as file:\n",
    "    # Write Python code to the file\n",
    "    file.write(python_code)"
   ]
  },
  {
   "cell_type": "markdown",
   "metadata": {},
   "source": [
    "`.txt` файл бичих"
   ]
  },
  {
   "cell_type": "code",
   "execution_count": 9,
   "metadata": {},
   "outputs": [],
   "source": [
    "python_code = \"\"\"\n",
    "data_dir=\"./MLData\"\n",
    "model_dir=\"./MLProjects\"\n",
    "max_depth=30\n",
    "min_samples_leaf=2\n",
    "min_samples_split=3\n",
    "\n",
    "\"\"\"\n",
    "\n",
    "file_name = './config/config1.txt'\n",
    "\n",
    "# Open the file in write mode ('w')\n",
    "with open(file_name, 'w') as file:\n",
    "    # Write Python code to the file\n",
    "    file.write(python_code)"
   ]
  },
  {
   "cell_type": "markdown",
   "metadata": {},
   "source": [
    "## 2. `json` file"
   ]
  },
  {
   "cell_type": "code",
   "execution_count": 10,
   "metadata": {},
   "outputs": [],
   "source": [
    "import json"
   ]
  },
  {
   "cell_type": "markdown",
   "metadata": {},
   "source": [
    "`json` файл бичих"
   ]
  },
  {
   "cell_type": "code",
   "execution_count": 11,
   "metadata": {},
   "outputs": [],
   "source": [
    "with open('./config/config.json', 'w') as file:\n",
    "    json.dump(config_dict, file, indent=2)"
   ]
  },
  {
   "cell_type": "markdown",
   "metadata": {},
   "source": [
    "`json` файл унших"
   ]
  },
  {
   "cell_type": "code",
   "execution_count": 12,
   "metadata": {},
   "outputs": [],
   "source": [
    "with open('./config/config.json', 'r') as file:\n",
    "    config_json = json.load(file)"
   ]
  },
  {
   "cell_type": "code",
   "execution_count": 13,
   "metadata": {},
   "outputs": [
    {
     "data": {
      "text/plain": [
       "{'data_dir': './MLData',\n",
       " 'model_dir': './MLProjects',\n",
       " 'model_config': {'max_depth': 30,\n",
       "  'min_samples_leaf': 2,\n",
       "  'min_samples_split': 3}}"
      ]
     },
     "execution_count": 13,
     "metadata": {},
     "output_type": "execute_result"
    }
   ],
   "source": [
    "config_json"
   ]
  },
  {
   "cell_type": "markdown",
   "metadata": {},
   "source": [
    "## 3. `yaml` file"
   ]
  },
  {
   "cell_type": "code",
   "execution_count": 14,
   "metadata": {},
   "outputs": [
    {
     "name": "stdout",
     "output_type": "stream",
     "text": [
      "Requirement already satisfied: pyyaml in /Users/uyangajung/miniconda3/envs/mlp/lib/python3.8/site-packages (6.0.1)\n"
     ]
    }
   ],
   "source": [
    "!pip install pyyaml"
   ]
  },
  {
   "cell_type": "code",
   "execution_count": 15,
   "metadata": {},
   "outputs": [],
   "source": [
    "import yaml"
   ]
  },
  {
   "cell_type": "markdown",
   "metadata": {},
   "source": [
    "`yaml` файл бичих"
   ]
  },
  {
   "cell_type": "code",
   "execution_count": 16,
   "metadata": {},
   "outputs": [],
   "source": [
    "with open('./config/config.yaml', 'w') as file:\n",
    "    yaml.dump(config_dict, file, default_flow_style=False)"
   ]
  },
  {
   "cell_type": "markdown",
   "metadata": {},
   "source": [
    "`yaml` файл унших"
   ]
  },
  {
   "cell_type": "code",
   "execution_count": 17,
   "metadata": {},
   "outputs": [],
   "source": [
    "with open('./config/config.yaml', 'r') as file:\n",
    "    config_yaml = yaml.safe_load(file)"
   ]
  },
  {
   "cell_type": "code",
   "execution_count": 18,
   "metadata": {},
   "outputs": [
    {
     "data": {
      "text/plain": [
       "{'data_dir': './MLData',\n",
       " 'model_config': {'max_depth': 30,\n",
       "  'min_samples_leaf': 2,\n",
       "  'min_samples_split': 3},\n",
       " 'model_dir': './MLProjects'}"
      ]
     },
     "execution_count": 18,
     "metadata": {},
     "output_type": "execute_result"
    }
   ],
   "source": [
    "config_yaml"
   ]
  },
  {
   "cell_type": "markdown",
   "metadata": {},
   "source": [
    "## 4. `xml` file"
   ]
  },
  {
   "cell_type": "code",
   "execution_count": 34,
   "metadata": {},
   "outputs": [],
   "source": [
    "!pip install xml-python"
   ]
  },
  {
   "cell_type": "markdown",
   "metadata": {},
   "source": [
    "`xml` файл-г `import xml.etree.ElementTree as ET` ашиглан бичих"
   ]
  },
  {
   "cell_type": "code",
   "execution_count": 20,
   "metadata": {},
   "outputs": [],
   "source": [
    "import xml.etree.ElementTree as ET"
   ]
  },
  {
   "cell_type": "code",
   "execution_count": 21,
   "metadata": {},
   "outputs": [],
   "source": [
    "config_dict = {\n",
    "    \"data_dir\": \"./MLData\",\n",
    "    \"model_dir\": \"./MLProjects\",\n",
    "    \"max_depth\": 30,\n",
    "    \"min_samples_leaf\": 2,\n",
    "    \"min_samples_split\": 3\n",
    "    }"
   ]
  },
  {
   "cell_type": "code",
   "execution_count": 23,
   "metadata": {},
   "outputs": [],
   "source": [
    "# Create an XML structure\n",
    "root = ET.Element(\"config\")\n",
    "data_dir = ET.SubElement(root, \"data_dir\")\n",
    "data_dir.text = \"./MLData\"\n",
    "model_dir = ET.SubElement(root, \"model_dir\")\n",
    "model_dir.text = \"./MLProjects\"\n",
    "\n",
    "# nested values\n",
    "model_config = ET.SubElement(root, \"model_config\")\n",
    "max_depth = ET.SubElement(model_config, \"max_depth\")\n",
    "max_depth.text = \"30\"\n",
    "min_samples_leaf = ET.SubElement(model_config, \"min_samples_leaf\")\n",
    "min_samples_leaf.text = \"2\"\n",
    "min_samples_split = ET.SubElement(model_config, \"min_samples_split\")\n",
    "min_samples_split.text = \"3\"\n",
    "\n",
    "# Create an ElementTree object\n",
    "tree = ET.ElementTree(root)\n",
    "\n",
    "# Write data to an XML file\n",
    "tree.write('./config/config.xml', xml_declaration=True, encoding='utf-8', method='xml', short_empty_elements=False)"
   ]
  },
  {
   "cell_type": "markdown",
   "metadata": {},
   "source": [
    "`xml` файл-г унших"
   ]
  },
  {
   "cell_type": "code",
   "execution_count": 24,
   "metadata": {},
   "outputs": [],
   "source": [
    "tree = ET.parse('./config/config.xml')\n",
    "root = tree.getroot()\n",
    "\n",
    "# Access elements and extract information\n",
    "model_config = root.find('model_config').text\n",
    "max_depth = root.find('model_config/max_depth').text"
   ]
  },
  {
   "cell_type": "code",
   "execution_count": 51,
   "metadata": {},
   "outputs": [
    {
     "name": "stdout",
     "output_type": "stream",
     "text": [
      "30\n"
     ]
    }
   ],
   "source": [
    "print(max_depth)"
   ]
  },
  {
   "cell_type": "code",
   "execution_count": 25,
   "metadata": {},
   "outputs": [
    {
     "name": "stdout",
     "output_type": "stream",
     "text": [
      "config: None\n",
      "data_dir: ./MLData\n",
      "model_dir: ./MLProjects\n",
      "model_config: None\n",
      "max_depth: 30\n",
      "min_samples_leaf: 2\n",
      "min_samples_split: 3\n"
     ]
    }
   ],
   "source": [
    "for element in root.iter():\n",
    "    print(f\"{element.tag}: {element.text}\")"
   ]
  },
  {
   "cell_type": "markdown",
   "metadata": {},
   "source": [
    "`xml` файл-г `from lxml import etree` ашиглан бичих"
   ]
  },
  {
   "cell_type": "code",
   "execution_count": 33,
   "metadata": {},
   "outputs": [],
   "source": [
    "!pip install lxml"
   ]
  },
  {
   "cell_type": "code",
   "execution_count": 30,
   "metadata": {},
   "outputs": [],
   "source": [
    "from lxml import etree"
   ]
  },
  {
   "cell_type": "code",
   "execution_count": 31,
   "metadata": {},
   "outputs": [],
   "source": [
    "# Create an XML structure\n",
    "root = etree.Element(\"config\")\n",
    "data_dir = etree.SubElement(root, \"data_dir\")\n",
    "data_dir.text = \"./MLData\"\n",
    "model_dir = etree.SubElement(root, \"model_dir\")\n",
    "model_dir.text = \"./MLProjects\"\n",
    "\n",
    "# nested values\n",
    "model_config = etree.SubElement(root, \"model_config\")\n",
    "max_depth = etree.SubElement(model_config, \"max_depth\")\n",
    "max_depth.text = \"30\"\n",
    "min_samples_leaf = etree.SubElement(model_config, \"min_samples_leaf\")\n",
    "min_samples_leaf.text = \"2\"\n",
    "min_samples_split = etree.SubElement(model_config, \"min_samples_split\")\n",
    "min_samples_split.text = \"3\"\n",
    "\n",
    "# Create an ElementTree object\n",
    "tree = etree.ElementTree(root)\n",
    "\n",
    "# Write data to an XML file\n",
    "tree.write('./config/config.xml', pretty_print=True)"
   ]
  },
  {
   "cell_type": "markdown",
   "metadata": {},
   "source": [
    "`xml` файл-г унших"
   ]
  },
  {
   "cell_type": "code",
   "execution_count": 32,
   "metadata": {},
   "outputs": [
    {
     "name": "stdout",
     "output_type": "stream",
     "text": [
      "config: \n",
      "  \n",
      "data_dir: ./MLData\n",
      "model_dir: ./MLProjects\n",
      "model_config: \n",
      "    \n",
      "max_depth: 30\n",
      "min_samples_leaf: 2\n",
      "min_samples_split: 3\n"
     ]
    }
   ],
   "source": [
    "tree = etree.parse('./config/config.xml')\n",
    "\n",
    "# Get the root element\n",
    "root = tree.getroot()\n",
    "\n",
    "# Access elements and extract information\n",
    "for element in root.iter():\n",
    "    print(f\"{element.tag}: {element.text}\")"
   ]
  },
  {
   "cell_type": "markdown",
   "metadata": {},
   "source": [
    "The end of the notebook"
   ]
  }
 ],
 "metadata": {
  "kernelspec": {
   "display_name": "mlp",
   "language": "python",
   "name": "python3"
  },
  "language_info": {
   "codemirror_mode": {
    "name": "ipython",
    "version": 3
   },
   "file_extension": ".py",
   "mimetype": "text/x-python",
   "name": "python",
   "nbconvert_exporter": "python",
   "pygments_lexer": "ipython3",
   "version": "3.8.18"
  }
 },
 "nbformat": 4,
 "nbformat_minor": 2
}
