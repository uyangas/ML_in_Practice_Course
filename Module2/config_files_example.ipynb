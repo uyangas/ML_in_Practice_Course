{
 "cells": [
  {
   "cell_type": "markdown",
   "metadata": {},
   "source": [
    "# Config files examples"
   ]
  },
  {
   "cell_type": "code",
   "execution_count": 26,
   "metadata": {},
   "outputs": [],
   "source": [
    "config_dict = {\n",
    "    \"data_dir\": \"/Users/uyangajung/MLData\",\n",
    "    \"model_dir\": \"/Users/uyangajung/MLProjects\",\n",
    "    \"model_config\": {\n",
    "        \"max_depth\": 30,\n",
    "        \"min_samples_leaf\": 2,\n",
    "        \"min_samples_split\": 3\n",
    "        }\n",
    "    }"
   ]
  },
  {
   "cell_type": "markdown",
   "metadata": {},
   "source": [
    "## 1. `.py` and `.txt` file"
   ]
  },
  {
   "cell_type": "markdown",
   "metadata": {},
   "source": [
    "`%%writefile` magic method-г ашиглан python файл бичих"
   ]
  },
  {
   "cell_type": "code",
   "execution_count": 56,
   "metadata": {},
   "outputs": [
    {
     "name": "stdout",
     "output_type": "stream",
     "text": [
      "Overwriting ./config/config.py\n"
     ]
    }
   ],
   "source": [
    "%%writefile ./config/config.py\n",
    "\n",
    "data_dir=\"/Users/uyangajung/MLData\"\n",
    "model_dir=\"/Users/uyangajung/MLProjects\"\n",
    "max_depth=30\n",
    "min_samples_leaf=2\n",
    "min_samples_split=3"
   ]
  },
  {
   "cell_type": "markdown",
   "metadata": {},
   "source": [
    "`.txt` файл бичих"
   ]
  },
  {
   "cell_type": "code",
   "execution_count": 58,
   "metadata": {},
   "outputs": [
    {
     "name": "stdout",
     "output_type": "stream",
     "text": [
      "Overwriting ./config/config.txt\n"
     ]
    }
   ],
   "source": [
    "%%writefile ./config/config.txt\n",
    "\n",
    "data_dir=\"/Users/uyangajung/MLData\"\n",
    "model_dir=\"/Users/uyangajung/MLProjects\"\n",
    "max_depth=30\n",
    "min_samples_leaf=2\n",
    "min_samples_split=3"
   ]
  },
  {
   "cell_type": "markdown",
   "metadata": {},
   "source": [
    "Кодыг `.py` файл болгож бичих"
   ]
  },
  {
   "cell_type": "code",
   "execution_count": 57,
   "metadata": {},
   "outputs": [],
   "source": [
    "python_code = \"\"\"\n",
    "data_dir=\"/Users/uyangajung/MLData\"\n",
    "model_dir=\"/Users/uyangajung/MLProjects\"\n",
    "max_depth=30\n",
    "min_samples_leaf=2\n",
    "min_samples_split=3\n",
    "\n",
    "\"\"\"\n",
    "\n",
    "file_name = './config/config1.py'\n",
    "\n",
    "# Open the file in write mode ('w')\n",
    "with open(file_name, 'w') as file:\n",
    "    # Write Python code to the file\n",
    "    file.write(python_code)"
   ]
  },
  {
   "cell_type": "markdown",
   "metadata": {},
   "source": [
    "`.txt` файл бичих"
   ]
  },
  {
   "cell_type": "code",
   "execution_count": 1,
   "metadata": {},
   "outputs": [],
   "source": [
    "python_code = \"\"\"\n",
    "data_dir=\"/Users/uyangajung/MLData\"\n",
    "model_dir=\"/Users/uyangajung/MLProjects\"\n",
    "max_depth=30\n",
    "min_samples_leaf=2\n",
    "min_samples_split=3\n",
    "\n",
    "\"\"\"\n",
    "\n",
    "file_name = './config/config1.txt'\n",
    "\n",
    "# Open the file in write mode ('w')\n",
    "with open(file_name, 'w') as file:\n",
    "    # Write Python code to the file\n",
    "    file.write(python_code)"
   ]
  },
  {
   "cell_type": "markdown",
   "metadata": {},
   "source": [
    "## 2. `json` file"
   ]
  },
  {
   "cell_type": "code",
   "execution_count": 7,
   "metadata": {},
   "outputs": [],
   "source": [
    "import json"
   ]
  },
  {
   "cell_type": "markdown",
   "metadata": {},
   "source": [
    "`json` файл бичих"
   ]
  },
  {
   "cell_type": "code",
   "execution_count": 34,
   "metadata": {},
   "outputs": [],
   "source": [
    "with open('./config/config.json', 'w') as file:\n",
    "    json.dump(config_dict, file, indent=2)"
   ]
  },
  {
   "cell_type": "markdown",
   "metadata": {},
   "source": [
    "`json` файл унших"
   ]
  },
  {
   "cell_type": "code",
   "execution_count": 35,
   "metadata": {},
   "outputs": [],
   "source": [
    "with open('./config/config.json', 'r') as file:\n",
    "    config_json = json.load(file)"
   ]
  },
  {
   "cell_type": "code",
   "execution_count": 36,
   "metadata": {},
   "outputs": [
    {
     "data": {
      "text/plain": [
       "{'data_dir': '/Users/uyangajung/MLData',\n",
       " 'model_dir': '/Users/uyangajung/MLProjects',\n",
       " 'model_config': {'max_depth': 30,\n",
       "  'min_samples_leaf': 2,\n",
       "  'min_samples_split': 3}}"
      ]
     },
     "execution_count": 36,
     "metadata": {},
     "output_type": "execute_result"
    }
   ],
   "source": [
    "config_json"
   ]
  },
  {
   "cell_type": "markdown",
   "metadata": {},
   "source": [
    "## 3. `yaml` file"
   ]
  },
  {
   "cell_type": "code",
   "execution_count": 14,
   "metadata": {},
   "outputs": [
    {
     "name": "stdout",
     "output_type": "stream",
     "text": [
      "Collecting pyyaml\n",
      "  Downloading PyYAML-6.0.1.tar.gz (125 kB)\n",
      "\u001b[2K     \u001b[90m━━━━━━━━━━━━━━━━━━━━━━━━━━━━━━━━━━━━━━━\u001b[0m \u001b[32m125.2/125.2 kB\u001b[0m \u001b[31m5.2 MB/s\u001b[0m eta \u001b[36m0:00:00\u001b[0m\n",
      "\u001b[?25h  Installing build dependencies ... \u001b[?25ldone\n",
      "\u001b[?25h  Getting requirements to build wheel ... \u001b[?25ldone\n",
      "\u001b[?25h  Preparing metadata (pyproject.toml) ... \u001b[?25ldone\n",
      "\u001b[?25hBuilding wheels for collected packages: pyyaml\n",
      "  Building wheel for pyyaml (pyproject.toml) ... \u001b[?25ldone\n",
      "\u001b[?25h  Created wheel for pyyaml: filename=PyYAML-6.0.1-cp38-cp38-macosx_11_0_arm64.whl size=45365 sha256=88a38ffae0711c8db942ac1bdd91af54bf273b13f9b0654f8195f8b28c012553\n",
      "  Stored in directory: /Users/uyangajung/Library/Caches/pip/wheels/77/54/77/68b3079bd1d88cb070513c3935d9f7e32c70ad69368375308d\n",
      "Successfully built pyyaml\n",
      "Installing collected packages: pyyaml\n",
      "Successfully installed pyyaml-6.0.1\n"
     ]
    }
   ],
   "source": [
    "!pip install pyyaml"
   ]
  },
  {
   "cell_type": "code",
   "execution_count": 30,
   "metadata": {},
   "outputs": [],
   "source": [
    "import yaml"
   ]
  },
  {
   "cell_type": "markdown",
   "metadata": {},
   "source": [
    "`yaml` файл бичих"
   ]
  },
  {
   "cell_type": "code",
   "execution_count": 37,
   "metadata": {},
   "outputs": [],
   "source": [
    "with open('./config/config.yaml', 'w') as file:\n",
    "    yaml.dump(config_dict, file, default_flow_style=False)"
   ]
  },
  {
   "cell_type": "markdown",
   "metadata": {},
   "source": [
    "`yaml` файл унших"
   ]
  },
  {
   "cell_type": "code",
   "execution_count": 38,
   "metadata": {},
   "outputs": [],
   "source": [
    "with open('./config/config.yaml', 'r') as file:\n",
    "    config_yaml = yaml.safe_load(file)"
   ]
  },
  {
   "cell_type": "code",
   "execution_count": 39,
   "metadata": {},
   "outputs": [
    {
     "data": {
      "text/plain": [
       "{'data_dir': '/Users/uyangajung/MLData',\n",
       " 'model_config': {'max_depth': 30,\n",
       "  'min_samples_leaf': 2,\n",
       "  'min_samples_split': 3},\n",
       " 'model_dir': '/Users/uyangajung/MLProjects'}"
      ]
     },
     "execution_count": 39,
     "metadata": {},
     "output_type": "execute_result"
    }
   ],
   "source": [
    "config_yaml"
   ]
  },
  {
   "cell_type": "markdown",
   "metadata": {},
   "source": [
    "## 4. `xml` file"
   ]
  },
  {
   "cell_type": "code",
   "execution_count": 22,
   "metadata": {},
   "outputs": [
    {
     "name": "stdout",
     "output_type": "stream",
     "text": [
      "Collecting xml-python\n",
      "  Downloading xml_python-0.4.3-py3-none-any.whl (9.2 kB)\n",
      "Collecting attrs (from xml-python)\n",
      "  Downloading attrs-23.1.0-py3-none-any.whl (61 kB)\n",
      "\u001b[2K     \u001b[90m━━━━━━━━━━━━━━━━━━━━━━━━━━━━━━━━━━━━━━━━\u001b[0m \u001b[32m61.2/61.2 kB\u001b[0m \u001b[31m2.6 MB/s\u001b[0m eta \u001b[36m0:00:00\u001b[0m\n",
      "\u001b[?25hInstalling collected packages: attrs, xml-python\n",
      "Successfully installed attrs-23.1.0 xml-python-0.4.3\n"
     ]
    }
   ],
   "source": [
    "!pip install xml-python"
   ]
  },
  {
   "cell_type": "markdown",
   "metadata": {},
   "source": [
    "`xml` файл-г `import xml.etree.ElementTree as ET` ашиглан бичих"
   ]
  },
  {
   "cell_type": "code",
   "execution_count": 23,
   "metadata": {},
   "outputs": [],
   "source": [
    "import xml.etree.ElementTree as ET"
   ]
  },
  {
   "cell_type": "code",
   "execution_count": null,
   "metadata": {},
   "outputs": [],
   "source": [
    "config_dict = {\n",
    "    \"data_dir\": \"/Users/uyangajung/MLData\",\n",
    "    \"model_dir\": \"/Users/uyangajung/MLProjects\",\n",
    "    \"max_depth\": 30,\n",
    "    \"min_samples_leaf\": 2,\n",
    "    \"min_samples_split\": 3\n",
    "    }"
   ]
  },
  {
   "cell_type": "code",
   "execution_count": 41,
   "metadata": {},
   "outputs": [],
   "source": [
    "# Create an XML structure\n",
    "root = ET.Element(\"config\")\n",
    "data_dir = ET.SubElement(root, \"data_dir\")\n",
    "data_dir.text = \"/Users/uyangajung/MLData\"\n",
    "model_dir = ET.SubElement(root, \"model_dir\")\n",
    "model_dir.text = \"/Users/uyangajung/MLProjects\"\n",
    "\n",
    "# nested values\n",
    "model_config = ET.SubElement(root, \"model_config\")\n",
    "max_depth = ET.SubElement(model_config, \"max_depth\")\n",
    "max_depth.text = \"30\"\n",
    "min_samples_leaf = ET.SubElement(model_config, \"min_samples_leaf\")\n",
    "min_samples_leaf.text = \"2\"\n",
    "min_samples_split = ET.SubElement(model_config, \"min_samples_split\")\n",
    "min_samples_split.text = \"3\"\n",
    "\n",
    "# Create an ElementTree object\n",
    "tree = ET.ElementTree(root)\n",
    "\n",
    "# Write data to an XML file\n",
    "tree.write('./config/config.xml', xml_declaration=True, encoding='utf-8', method='xml', short_empty_elements=False)"
   ]
  },
  {
   "cell_type": "markdown",
   "metadata": {},
   "source": [
    "`xml` файл-г унших"
   ]
  },
  {
   "cell_type": "code",
   "execution_count": 53,
   "metadata": {},
   "outputs": [],
   "source": [
    "tree = ET.parse('./config/config.xml')\n",
    "root = tree.getroot()\n",
    "\n",
    "# Access elements and extract information\n",
    "model_config = root.find('model_config').text\n",
    "max_depth = root.find('model_config/max_depth').text"
   ]
  },
  {
   "cell_type": "code",
   "execution_count": 51,
   "metadata": {},
   "outputs": [
    {
     "name": "stdout",
     "output_type": "stream",
     "text": [
      "30\n"
     ]
    }
   ],
   "source": [
    "print(max_depth)"
   ]
  },
  {
   "cell_type": "code",
   "execution_count": 54,
   "metadata": {},
   "outputs": [
    {
     "name": "stdout",
     "output_type": "stream",
     "text": [
      "config: \n",
      "  \n",
      "data_dir: /Users/uyangajung/MLData\n",
      "model_dir: /Users/uyangajung/MLProjects\n",
      "model_config: \n",
      "    \n",
      "max_depth: 30\n",
      "min_samples_leaf: 2\n",
      "min_samples_split: 3\n"
     ]
    }
   ],
   "source": [
    "for element in root.iter():\n",
    "    print(f\"{element.tag}: {element.text}\")"
   ]
  },
  {
   "cell_type": "markdown",
   "metadata": {},
   "source": [
    "`xml` файл-г `from lxml import etree` ашиглан бичих"
   ]
  },
  {
   "cell_type": "code",
   "execution_count": 25,
   "metadata": {},
   "outputs": [
    {
     "name": "stdout",
     "output_type": "stream",
     "text": [
      "Collecting lxml\n",
      "  Downloading lxml-4.9.4.tar.gz (3.6 MB)\n",
      "\u001b[2K     \u001b[90m━━━━━━━━━━━━━━━━━━━━━━━━━━━━━━━━━━━━━━━━\u001b[0m \u001b[32m3.6/3.6 MB\u001b[0m \u001b[31m31.2 MB/s\u001b[0m eta \u001b[36m0:00:00\u001b[0m00:01\u001b[0m00:01\u001b[0m\n",
      "\u001b[?25h  Preparing metadata (setup.py) ... \u001b[?25ldone\n",
      "\u001b[?25hBuilding wheels for collected packages: lxml\n",
      "  Building wheel for lxml (setup.py) ... \u001b[?25ldone\n",
      "\u001b[?25h  Created wheel for lxml: filename=lxml-4.9.4-cp38-cp38-macosx_11_0_arm64.whl size=1681223 sha256=5f95ac68dd30cdcfd8ef407e777465597b3da111d4a6da2fd741a454749b2918\n",
      "  Stored in directory: /Users/uyangajung/Library/Caches/pip/wheels/fe/9a/11/46f56189222f43617b37edcaed788b8d6bcf750eb5ae3a6291\n",
      "Successfully built lxml\n",
      "Installing collected packages: lxml\n",
      "Successfully installed lxml-4.9.4\n"
     ]
    }
   ],
   "source": [
    "!pip install lxml"
   ]
  },
  {
   "cell_type": "code",
   "execution_count": 43,
   "metadata": {},
   "outputs": [],
   "source": [
    "from lxml import etree"
   ]
  },
  {
   "cell_type": "code",
   "execution_count": 44,
   "metadata": {},
   "outputs": [],
   "source": [
    "# Create an XML structure\n",
    "root = etree.Element(\"config\")\n",
    "data_dir = etree.SubElement(root, \"data_dir\")\n",
    "data_dir.text = \"/Users/uyangajung/MLData\"\n",
    "model_dir = etree.SubElement(root, \"model_dir\")\n",
    "model_dir.text = \"/Users/uyangajung/MLProjects\"\n",
    "\n",
    "# nested values\n",
    "model_config = etree.SubElement(root, \"model_config\")\n",
    "max_depth = etree.SubElement(model_config, \"max_depth\")\n",
    "max_depth.text = \"30\"\n",
    "min_samples_leaf = etree.SubElement(model_config, \"min_samples_leaf\")\n",
    "min_samples_leaf.text = \"2\"\n",
    "min_samples_split = etree.SubElement(model_config, \"min_samples_split\")\n",
    "min_samples_split.text = \"3\"\n",
    "\n",
    "# Create an ElementTree object\n",
    "tree = etree.ElementTree(root)\n",
    "\n",
    "# Write data to an XML file\n",
    "tree.write('./config/config.xml', pretty_print=True)"
   ]
  },
  {
   "cell_type": "markdown",
   "metadata": {},
   "source": [
    "`xml` файл-г унших"
   ]
  },
  {
   "cell_type": "code",
   "execution_count": 52,
   "metadata": {},
   "outputs": [
    {
     "name": "stdout",
     "output_type": "stream",
     "text": [
      "config: \n",
      "  \n",
      "data_dir: /Users/uyangajung/MLData\n",
      "model_dir: /Users/uyangajung/MLProjects\n",
      "model_config: \n",
      "    \n",
      "max_depth: 30\n",
      "min_samples_leaf: 2\n",
      "min_samples_split: 3\n"
     ]
    }
   ],
   "source": [
    "tree = etree.parse('./config/config.xml')\n",
    "\n",
    "# Get the root element\n",
    "root = tree.getroot()\n",
    "\n",
    "# Access elements and extract information\n",
    "for element in root.iter():\n",
    "    print(f\"{element.tag}: {element.text}\")"
   ]
  },
  {
   "cell_type": "markdown",
   "metadata": {},
   "source": [
    "The end of the notebook"
   ]
  }
 ],
 "metadata": {
  "kernelspec": {
   "display_name": "mlp",
   "language": "python",
   "name": "python3"
  },
  "language_info": {
   "codemirror_mode": {
    "name": "ipython",
    "version": 3
   },
   "file_extension": ".py",
   "mimetype": "text/x-python",
   "name": "python",
   "nbconvert_exporter": "python",
   "pygments_lexer": "ipython3",
   "version": "3.8.18"
  }
 },
 "nbformat": 4,
 "nbformat_minor": 2
}
